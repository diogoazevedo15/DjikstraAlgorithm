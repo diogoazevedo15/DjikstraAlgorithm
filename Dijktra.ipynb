{
 "cells": [
  {
   "cell_type": "code",
   "execution_count": 4,
   "metadata": {},
   "outputs": [],
   "source": [
    "graph = { \n",
    "    'S': [('A',7),('B',2),('C',3)], \n",
    "    'A': [('B',3),('D',4),('S',7)], \n",
    "    'B': [('A',2),('D',4),('H',1),('S',2)], \n",
    "    'C': [('L',3)],\n",
    "    'D': [('A',4),('B',4),('F',5)],\n",
    "    'E': [('G',2),('K',5)],\n",
    "    'F': [('D',5),('H',4)],\n",
    "    'G': [('H',2),('E',2)],\n",
    "    'H': [('F',4),('B',1),('G',2)],\n",
    "    'I': [('L',4),('K',4),('J',6)],\n",
    "    'J': [('L',4),('I',6),('K',4)],\n",
    "    'K': [('I',4),('J',4),('E',5)]\n",
    "} "
   ]
  },
  {
   "cell_type": "code",
   "execution_count": 5,
   "metadata": {},
   "outputs": [],
   "source": [
    "#Imports\n",
    "import math"
   ]
  },
  {
   "cell_type": "code",
   "execution_count": 6,
   "metadata": {},
   "outputs": [],
   "source": [
    "def calculateAP(path, graph):\n",
    "    #path = ['S','A','B']\n",
    "    #len = 3 - 1 = 2\n",
    "    acumulatedPath = 0\n",
    "    \n",
    "    for position,item in enumerate(path):\n",
    "        if position < len(path) - 1:\n",
    "            for k,v in graph.items():\n",
    "                if item == k:\n",
    "                    expand = dict(v) #[('A',7),('B',2),('C',3)]\n",
    "                    acumulatedPath += expand[path[position + 1]]\n",
    "                    \n",
    "    return acumulatedPath\n",
    "                "
   ]
  },
  {
   "cell_type": "code",
   "execution_count": 10,
   "metadata": {},
   "outputs": [],
   "source": [
    "def loadQueue(graph,start):\n",
    "    \n",
    "    #imoprts\n",
    "    import math\n",
    "    \n",
    "    queue = []\n",
    "    for item in graph:\n",
    "        if(item == start):\n",
    "            queue.append([item,[item],0])\n",
    "        else:\n",
    "            queue.append([item,[],math.inf])\n",
    "    \n",
    "    return queue"
   ]
  },
  {
   "cell_type": "code",
   "execution_count": 11,
   "metadata": {},
   "outputs": [],
   "source": [
    "def Dijkstra(graph,start,end):\n",
    "    \n",
    "    #Imports\n",
    "    import math\n",
    "    from operator import itemgetter \n",
    "    \n",
    "    #Iniciar variaveis\n",
    "    #queue = [(node,caminho[],valorCaminhoAcumulado)]\n",
    "    queue = loadQueue(graph,start)\n",
    "    done = []\n",
    "    \n",
    "    count = 1\n",
    "    \n",
    "    while queue:\n",
    "        \n",
    "        head = queue[0]  #['S',[c],ca]\n",
    "        rest = queue[1:] #[ [n,[c],ca], [n,[c],ca], [n,[c],ca], [n,[c],ca] ]\n",
    "        \n",
    "        if head[0] == end:\n",
    "            print('*********************************************************************** End ***********************************************************************')\n",
    "            print('Shortest path: ',head[1])\n",
    "            print('Value: ',head[2])\n",
    "            break\n",
    "            \n",
    "        else:\n",
    "            #Fazer expand\n",
    "            #Ex: expand = ['A','B','C']\n",
    "            #Ex:  h = ('S',caminho['S'],0)\n",
    "            #Ex: h[1] = ['S','A']\n",
    "            expand = [i[0] for i in graph[head[0]]] #Ex:['A','B','C']\n",
    "            \n",
    "            #Ciclo para iterar os nós da queue\n",
    "            for position,(n,c,v) in enumerate(queue):\n",
    "                \n",
    "                #Ver se o nó atual faz parte do expand\n",
    "                if n in expand:\n",
    "                    \n",
    "                    #Arranjar a path para este né e o seu custo acumulado\n",
    "                    path = head[1] + [n] #['S','A'] + ['B'] = ['S','A','B']\n",
    "                    acumulatedPath = calculateAP(path, graph) #7\n",
    "                    \n",
    "                    #Se o caminho acumulado for inferior ao caminho antigo, substitui-lo\n",
    "                    if acumulatedPath < v:\n",
    "                        queue[position] = ([n,path,acumulatedPath])\n",
    "            \n",
    "            #Remover o head da Queue e adiciona-lo ao Done. Fazer sort da Queue utilizando o elemnto [2] como parametro de comparação\n",
    "            queue.remove(head)\n",
    "            queue = sorted(queue,key=itemgetter(2))\n",
    "            done.append(head)\n",
    "            \n",
    "            print('----------------------------------------------------------------------------------------------------------------------------------------')\n",
    "            print('Ciclo numero ',count)\n",
    "            print('Queue: ',queue)\n",
    "            \n",
    "            count += 1\n",
    "            \n",
    "        print('Caminho nao encontrado')\n",
    "            \n",
    "   "
   ]
  },
  {
   "cell_type": "code",
   "execution_count": 12,
   "metadata": {},
   "outputs": [
    {
     "name": "stdout",
     "output_type": "stream",
     "text": [
      "S\n",
      "A\n",
      "B\n",
      "C\n",
      "D\n",
      "E\n",
      "F\n",
      "G\n",
      "H\n",
      "I\n",
      "J\n",
      "K\n",
      "----------------------------------------------------------------------------------------------------------------------------------------\n",
      "Ciclo numero  1\n",
      "Queue:  [['B', ['S', 'B'], 2], ['C', ['S', 'C'], 3], ['A', ['S', 'A'], 7], ['D', [], inf], ['E', [], inf], ['F', [], inf], ['G', [], inf], ['H', [], inf], ['I', [], inf], ['J', [], inf], ['K', [], inf]]\n",
      "----------------------------------------------------------------------------------------------------------------------------------------\n",
      "Ciclo numero  2\n",
      "Queue:  [['C', ['S', 'C'], 3], ['H', ['S', 'B', 'H'], 3], ['A', ['S', 'B', 'A'], 4], ['D', ['S', 'B', 'D'], 6], ['E', [], inf], ['F', [], inf], ['G', [], inf], ['I', [], inf], ['J', [], inf], ['K', [], inf]]\n",
      "----------------------------------------------------------------------------------------------------------------------------------------\n",
      "Ciclo numero  3\n",
      "Queue:  [['H', ['S', 'B', 'H'], 3], ['A', ['S', 'B', 'A'], 4], ['D', ['S', 'B', 'D'], 6], ['E', [], inf], ['F', [], inf], ['G', [], inf], ['I', [], inf], ['J', [], inf], ['K', [], inf]]\n",
      "----------------------------------------------------------------------------------------------------------------------------------------\n",
      "Ciclo numero  4\n",
      "Queue:  [['A', ['S', 'B', 'A'], 4], ['G', ['S', 'B', 'H', 'G'], 5], ['D', ['S', 'B', 'D'], 6], ['F', ['S', 'B', 'H', 'F'], 7], ['E', [], inf], ['I', [], inf], ['J', [], inf], ['K', [], inf]]\n",
      "----------------------------------------------------------------------------------------------------------------------------------------\n",
      "Ciclo numero  5\n",
      "Queue:  [['G', ['S', 'B', 'H', 'G'], 5], ['D', ['S', 'B', 'D'], 6], ['F', ['S', 'B', 'H', 'F'], 7], ['E', [], inf], ['I', [], inf], ['J', [], inf], ['K', [], inf]]\n",
      "----------------------------------------------------------------------------------------------------------------------------------------\n",
      "Ciclo numero  6\n",
      "Queue:  [['D', ['S', 'B', 'D'], 6], ['F', ['S', 'B', 'H', 'F'], 7], ['E', ['S', 'B', 'H', 'G', 'E'], 7], ['I', [], inf], ['J', [], inf], ['K', [], inf]]\n",
      "----------------------------------------------------------------------------------------------------------------------------------------\n",
      "Ciclo numero  7\n",
      "Queue:  [['F', ['S', 'B', 'H', 'F'], 7], ['E', ['S', 'B', 'H', 'G', 'E'], 7], ['I', [], inf], ['J', [], inf], ['K', [], inf]]\n",
      "----------------------------------------------------------------------------------------------------------------------------------------\n",
      "Ciclo numero  8\n",
      "Queue:  [['E', ['S', 'B', 'H', 'G', 'E'], 7], ['I', [], inf], ['J', [], inf], ['K', [], inf]]\n",
      "*********************************************************************** End ***********************************************************************\n",
      "Shortest path:  ['S', 'B', 'H', 'G', 'E']\n",
      "Value:  7\n"
     ]
    }
   ],
   "source": [
    " Dijkstra(graph,'S','E')"
   ]
  },
  {
   "cell_type": "code",
   "execution_count": 19,
   "metadata": {},
   "outputs": [
    {
     "name": "stdout",
     "output_type": "stream",
     "text": [
      "0 a\n",
      "1 b\n",
      "2 c\n"
     ]
    }
   ],
   "source": [
    "a =['a','b','c']\n",
    "\n",
    "for position,item in enumerate(a):\n",
    "    print (position,item)"
   ]
  },
  {
   "cell_type": "code",
   "execution_count": 28,
   "metadata": {},
   "outputs": [
    {
     "name": "stdout",
     "output_type": "stream",
     "text": [
      "K:  S\n",
      "K:  A\n",
      "K:  B\n",
      "K:  C\n",
      "K:  D\n",
      "K:  E\n",
      "K:  F\n",
      "K:  G\n",
      "K:  H\n",
      "K:  I\n",
      "K:  J\n",
      "K:  K\n"
     ]
    }
   ],
   "source": [
    "for (key,value) in graph.items():\n",
    "    print('K: ',k)\n",
    "    \n",
    "    "
   ]
  },
  {
   "cell_type": "code",
   "execution_count": 31,
   "metadata": {},
   "outputs": [
    {
     "data": {
      "text/plain": [
       "7"
      ]
     },
     "execution_count": 31,
     "metadata": {},
     "output_type": "execute_result"
    }
   ],
   "source": [
    "\n",
    "a = { 'A': 7}\n",
    "a['A']\n"
   ]
  },
  {
   "cell_type": "code",
   "execution_count": 32,
   "metadata": {},
   "outputs": [
    {
     "name": "stdout",
     "output_type": "stream",
     "text": [
      "['b', 'c', 'd']\n"
     ]
    }
   ],
   "source": [
    "a=['a','b','c','d']\n",
    "a.remove('a')\n",
    "print(a)"
   ]
  },
  {
   "cell_type": "code",
   "execution_count": 39,
   "metadata": {},
   "outputs": [
    {
     "name": "stdout",
     "output_type": "stream",
     "text": [
      "[('c', 1), ('a', 3), ('b', 5)]\n"
     ]
    }
   ],
   "source": [
    "from operator import itemgetter \n",
    "\n",
    "a=[('a',3),('c',1),('b',5)]\n",
    "\n",
    "a = sorted(a,key=itemgetter(1))\n",
    "print(a)"
   ]
  },
  {
   "cell_type": "code",
   "execution_count": null,
   "metadata": {},
   "outputs": [],
   "source": []
  }
 ],
 "metadata": {
  "kernelspec": {
   "display_name": "Python 3",
   "language": "python",
   "name": "python3"
  },
  "language_info": {
   "codemirror_mode": {
    "name": "ipython",
    "version": 3
   },
   "file_extension": ".py",
   "mimetype": "text/x-python",
   "name": "python",
   "nbconvert_exporter": "python",
   "pygments_lexer": "ipython3",
   "version": "3.7.6"
  }
 },
 "nbformat": 4,
 "nbformat_minor": 4
}
